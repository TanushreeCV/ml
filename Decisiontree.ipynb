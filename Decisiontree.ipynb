{
 "cells": [
  {
   "cell_type": "code",
   "execution_count": null,
   "id": "b79d1e67",
   "metadata": {
    "scrolled": false
   },
   "outputs": [],
   "source": [
    "from pandas import read_csv\n",
    "from sklearn.model_selection import KFold\n",
    "df=read_csv('iris.csv')\n",
    "array=df.values\n",
    "X=array[:,0:-1]\n",
    "Y=array[:,-1]\n",
    "kfold=KFold(n_splits=10,shuffle=True,random_state=0)\n",
    "print(X)\n",
    "print(Y)"
   ]
  },
  {
   "cell_type": "code",
   "execution_count": 5,
   "id": "f3193775",
   "metadata": {},
   "outputs": [
    {
     "name": "stdout",
     "output_type": "stream",
     "text": [
      "Accuracy=94.67%,SD=0.06)\n"
     ]
    }
   ],
   "source": [
    "from sklearn.tree import DecisionTreeClassifier\n",
    "from sklearn.model_selection import cross_val_score\n",
    "model=DecisionTreeClassifier(criterion=\"entropy\",random_state=0)\n",
    "result=cross_val_score(model,X,Y,cv=kfold,scoring='accuracy')\n",
    "print(\"Accuracy={:.2f}%,SD={:.2f})\".format(result.mean()*100,result.std()))"
   ]
  },
  {
   "cell_type": "code",
   "execution_count": 6,
   "id": "5f4c149e",
   "metadata": {},
   "outputs": [
    {
     "name": "stdout",
     "output_type": "stream",
     "text": [
      "[0.]\n"
     ]
    }
   ],
   "source": [
    "model=model.fit(X,Y)\n",
    "y_pred=model.predict([[5.1,3.7,1.5,0.4]])\n",
    "print(y_pred)"
   ]
  },
  {
   "cell_type": "code",
   "execution_count": 8,
   "id": "e82a1879",
   "metadata": {},
   "outputs": [
    {
     "name": "stdout",
     "output_type": "stream",
     "text": [
      "\n",
      " [[50  0  0]\n",
      " [ 0 46  4]\n",
      " [ 0  4 46]]\n",
      "\n",
      "               precision    recall  f1-score   support\n",
      "\n",
      "         0.0       1.00      1.00      1.00        50\n",
      "         1.0       0.92      0.92      0.92        50\n",
      "         2.0       0.92      0.92      0.92        50\n",
      "\n",
      "    accuracy                           0.95       150\n",
      "   macro avg       0.95      0.95      0.95       150\n",
      "weighted avg       0.95      0.95      0.95       150\n",
      "\n"
     ]
    }
   ],
   "source": [
    "from sklearn.model_selection import cross_val_predict\n",
    "from sklearn.metrics import confusion_matrix\n",
    "from sklearn.metrics import classification_report\n",
    "y_pred=cross_val_predict(model,X,Y,cv=kfold)\n",
    "conf_mat=confusion_matrix(Y,y_pred)\n",
    "print('\\n',conf_mat)\n",
    "report=classification_report(Y,y_pred)\n",
    "print('\\n',report)"
   ]
  },
  {
   "cell_type": "code",
   "execution_count": 10,
   "id": "9b4ac253",
   "metadata": {},
   "outputs": [],
   "source": [
    "from sklearn import tree\n",
    "import graphviz\n",
    "fn=['sepal length(cm)','sepal width(cm)','petal length(cm)','petal width(cm)']\n",
    "cn=['0','1','2']\n",
    "tree.export_graphviz(model,\n",
    "                    out_file=\"tree.dot\",\n",
    "                    feature_names=fn,\n",
    "                    class_names=cn,\n",
    "                    filled=True)"
   ]
  },
  {
   "cell_type": "code",
   "execution_count": null,
   "id": "01de8507",
   "metadata": {},
   "outputs": [],
   "source": []
  }
 ],
 "metadata": {
  "kernelspec": {
   "display_name": "Python 3 (ipykernel)",
   "language": "python",
   "name": "python3"
  },
  "language_info": {
   "codemirror_mode": {
    "name": "ipython",
    "version": 3
   },
   "file_extension": ".py",
   "mimetype": "text/x-python",
   "name": "python",
   "nbconvert_exporter": "python",
   "pygments_lexer": "ipython3",
   "version": "3.9.7"
  }
 },
 "nbformat": 4,
 "nbformat_minor": 5
}
