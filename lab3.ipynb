{
 "cells": [
  {
   "cell_type": "code",
   "execution_count": null,
   "id": "a7ef3fed",
   "metadata": {},
   "outputs": [],
   "source": [
    "from pandas import read_csv\n",
    "from sklearn.model_selection import KFold\n",
    "df=read_csv('iris.csv')\n",
    "array=df.values\n",
    "x=array[:,0:-1]\n",
    "y=array[:,-1]\n",
    "kfold=KFold(n_splits=10,shuffle=True,random_state=0)\n",
    "\n"
   ]
  },
  {
   "cell_type": "code",
   "execution_count": null,
   "id": "73ee0af9",
   "metadata": {},
   "outputs": [],
   "source": [
    "from sklearn.ensemble import BaggingClassifier\n",
    "from sklearn.ensemble import RandomForestClassifier\n",
    "from sklearn.ensemble import ExtraTreesClassifier\n",
    "from sklearn.model_selection import cross_val_score\n",
    "\n",
    "model=BaggingClassifier(n_estimators=20,random_state=0)\n",
    "#model=RandomForestClassifier(random_state=0,n_estimators=100,criterion=\"entropy\")\n",
    "#model=ExtraTreesClassifier(n_estimators=100,random_state=0)\n",
    "result=cross_val_score(model,x,y,cv=kfold,scoring='accuracy')\n",
    "print(\"(accuracy={:.2f}%,sd={:.2f})\".format(result.mean()*100,result.std()))\n"
   ]
  },
  {
   "cell_type": "code",
   "execution_count": null,
   "id": "523ad82d",
   "metadata": {},
   "outputs": [],
   "source": [
    "model=model.fit(x,y)\n",
    "y_perd=model.predict([[5.1,3.7,1.5,0.4]])\n",
    "print(y_perd)\n",
    "\n"
   ]
  },
  {
   "cell_type": "code",
   "execution_count": null,
   "id": "a2dc7ef9",
   "metadata": {},
   "outputs": [],
   "source": [
    "from sklearn.model_selection import cross_val_predict\n",
    "from sklearn.metrics import confusion_matrix\n",
    "from sklearn.metrics import classification_report\n",
    "y_pred =cross_val_predict(model,x,y,cv=kfold)\n",
    "conf_mat=confusion_matrix(y,y_pred)\n",
    "print('\\n',conf_mat)\n",
    "report=classification_report(y,y_pred)\n",
    "print('\\n',report)\n",
    "\n"
   ]
  },
  {
   "cell_type": "code",
   "execution_count": null,
   "id": "59fb8e9d",
   "metadata": {},
   "outputs": [],
   "source": [
    "from sklearn import tree\n",
    "import graphviz\n",
    "import pydot\n",
    "\n",
    "fn=['spl_len','spl_wid','ptl_len','ptl_wid']\n",
    "cn=['0','1','2']\n",
    "tree.export_graphviz(model.estimators_[19],\n",
    "                    out_file=\"ensemble.dot\",\n",
    "                    feature_names=fn,\n",
    "                    class_names=cn,\n",
    "                    filled=True)\n",
    "(graph,) = pydot.graph_from_dot_file('ensemble.dot')\n",
    "graph.write_png('BaggingClassifier.png')\n",
    "#graph.write_png('RandomForestClassifier.png')\n",
    "#graph.write_png('ExtraTreesClassifier.png')\n"
   ]
  },
  {
   "cell_type": "code",
   "execution_count": null,
   "id": "9e39c578",
   "metadata": {},
   "outputs": [],
   "source": []
  },
  {
   "cell_type": "code",
   "execution_count": null,
   "id": "256b19f3",
   "metadata": {},
   "outputs": [],
   "source": []
  }
 ],
 "metadata": {
  "kernelspec": {
   "display_name": "Python 3 (ipykernel)",
   "language": "python",
   "name": "python3"
  },
  "language_info": {
   "codemirror_mode": {
    "name": "ipython",
    "version": 3
   },
   "file_extension": ".py",
   "mimetype": "text/x-python",
   "name": "python",
   "nbconvert_exporter": "python",
   "pygments_lexer": "ipython3",
   "version": "3.9.7"
  }
 },
 "nbformat": 4,
 "nbformat_minor": 5
}
