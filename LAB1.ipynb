{
 "cells": [
  {
   "cell_type": "code",
   "execution_count": 9,
   "id": "76234b54",
   "metadata": {},
   "outputs": [
    {
     "name": "stdout",
     "output_type": "stream",
     "text": [
      "\n",
      " Given Training Data: \n",
      "\n",
      "[['sunny', 'warm', 'normal', 'strong', 'warm', 'same', 'yes'], ['sunny', 'warm', 'high', 'strong', 'warm', 'same', 'yes'], ['rainy', 'cold', 'high', 'strong', 'warm', 'change', 'no'], ['sunny', 'warm', 'high', 'strong', 'cool', 'change', 'yes']]\n",
      "\n",
      " The initial hypothesis:  ['0', '0', '0', '0', '0', '0']\n",
      "['sunny', '0', '0', '0', '0', '0']\n",
      "['sunny', 'warm', '0', '0', '0', '0']\n",
      "['sunny', 'warm', 'normal', '0', '0', '0']\n",
      "['sunny', 'warm', 'normal', 'strong', '0', '0']\n",
      "['sunny', 'warm', 'normal', 'strong', 'warm', '0']\n",
      "['sunny', 'warm', 'normal', 'strong', 'warm', 'same']\n",
      "\n",
      " Find S: Finding a Maximally Specific Hypothesis: \n",
      "\n",
      "For Training instance No. 0 , the Maximally Specific Hypothesis is  ['sunny', 'warm', 'normal', 'strong', 'warm', 'same']\n",
      "For Training instance No. 1 , the Maximally Specific Hypothesis is  ['sunny', 'warm', '?', 'strong', 'warm', 'same']\n",
      "For Training instance No. 2 , the Maximally Specific Hypothesis is  ['sunny', 'warm', '?', 'strong', 'warm', 'same']\n",
      "For Training instance No. 3 , the Maximally Specific Hypothesis is  ['sunny', 'warm', '?', 'strong', '?', '?']\n",
      "\n",
      " The Maximally Specific Hypothesis for the given given set of training examples is : \n",
      "\n",
      "['sunny', 'warm', '?', 'strong', '?', '?']\n"
     ]
    }
   ],
   "source": [
    "import csv\n",
    "num_attributes = 6\n",
    "a = []\n",
    "\n",
    "with open('EnjoySport.csv', 'r') as csvfile:\n",
    "    reader = csv.reader(csvfile)\n",
    "    for row in reader:\n",
    "        a.append(row)\n",
    "\n",
    "print(\"\\n Given Training Data: \\n\") \n",
    "print(a)\n",
    "\n",
    "hypothesis = ['0'] * num_attributes \n",
    "print(\"\\n The initial hypothesis: \", hypothesis)\n",
    "\n",
    "for j in range(0,num_attributes): \n",
    "    hypothesis[j] = a[0][j]; \n",
    "    print (hypothesis)\n",
    "    \n",
    "print(\"\\n Find S: Finding a Maximally Specific Hypothesis: \\n\")\n",
    "\n",
    "for i in range(0,len(a)): \n",
    "    if a[i][num_attributes] == 'yes': \n",
    "        for j in range(0,num_attributes): \n",
    "            if a[i][j]!=hypothesis[j]: \n",
    "                hypothesis[j]='?' \n",
    "    print(\"For Training instance No.\",i,\", the Maximally Specific Hypothesis is \",hypothesis)\n",
    "print(\"\\n The Maximally Specific Hypothesis for the given given set of training examples is : \\n\")\n",
    "print (hypothesis)"
   ]
  },
  {
   "cell_type": "code",
   "execution_count": null,
   "id": "587cad57",
   "metadata": {},
   "outputs": [],
   "source": []
  },
  {
   "cell_type": "code",
   "execution_count": null,
   "id": "78044857",
   "metadata": {},
   "outputs": [],
   "source": []
  }
 ],
 "metadata": {
  "kernelspec": {
   "display_name": "Python 3 (ipykernel)",
   "language": "python",
   "name": "python3"
  },
  "language_info": {
   "codemirror_mode": {
    "name": "ipython",
    "version": 3
   },
   "file_extension": ".py",
   "mimetype": "text/x-python",
   "name": "python",
   "nbconvert_exporter": "python",
   "pygments_lexer": "ipython3",
   "version": "3.9.7"
  }
 },
 "nbformat": 4,
 "nbformat_minor": 5
}
