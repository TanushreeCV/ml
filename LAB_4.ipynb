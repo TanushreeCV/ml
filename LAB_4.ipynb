{
 "cells": [
  {
   "cell_type": "code",
   "execution_count": 36,
   "id": "512bc54f",
   "metadata": {},
   "outputs": [],
   "source": [
    "from pandas import read_csv\n",
    "from sklearn.model_selection import KFold\n",
    "from sklearn.model_selection import cross_val_score\n",
    "from sklearn.model_selection import cross_val_predict\n",
    "from sklearn.metrics import confusion_matrix\n",
    "from sklearn.metrics import classification_report\n",
    "from sklearn.neural_network import MLPClassifier\n",
    "import warnings\n",
    "warnings.filterwarnings(\"ignore\")"
   ]
  },
  {
   "cell_type": "code",
   "execution_count": 37,
   "id": "baca854d",
   "metadata": {},
   "outputs": [],
   "source": [
    "df = read_csv('iris.csv')\n",
    "array = df.values\n",
    "X = array[:,0:-1]\n",
    "Y = array[:,-1]\n",
    "kfold = KFold(n_splits=10, shuffle=True, random_state=0)\n"
   ]
  },
  {
   "cell_type": "code",
   "execution_count": 38,
   "id": "0e541774",
   "metadata": {},
   "outputs": [],
   "source": [
    "from sklearn.preprocessing import StandardScaler\n",
    "scaler = StandardScaler().fit(X)\n",
    "X_scaled = scaler.transform(X)"
   ]
  },
  {
   "cell_type": "code",
   "execution_count": 45,
   "id": "13c59637",
   "metadata": {},
   "outputs": [
    {
     "name": "stdout",
     "output_type": "stream",
     "text": [
      "Accuracy = 97.33%\n",
      "\n",
      " [[50  0  0]\n",
      " [ 0 47  3]\n",
      " [ 0  1 49]]\n",
      "\n",
      "               precision    recall  f1-score   support\n",
      "\n",
      "         0.0       1.00      1.00      1.00        50\n",
      "         1.0       0.98      0.94      0.96        50\n",
      "         2.0       0.94      0.98      0.96        50\n",
      "\n",
      "    accuracy                           0.97       150\n",
      "   macro avg       0.97      0.97      0.97       150\n",
      "weighted avg       0.97      0.97      0.97       150\n",
      "\n"
     ]
    }
   ],
   "source": [
    "model = MLPClassifier(hidden_layer_sizes=(100,120), activation='relu', shuffle=True, random_state=0, max_iter=100)\n",
    "result = cross_val_score(model, X, Y, cv=kfold, scoring='accuracy')\n",
    "print(\"Accuracy = {:.2f}%\".format(result.mean()*100))\n",
    "Y_pred = cross_val_predict(model, X, Y, cv=kfold)\n",
    "conf_mat = confusion_matrix(Y, Y_pred)\n",
    "print('\\n',conf_mat)\n",
    "report = classification_report(Y, Y_pred)\n",
    "print('\\n',report)\n"
   ]
  },
  {
   "cell_type": "code",
   "execution_count": null,
   "id": "c455432c",
   "metadata": {},
   "outputs": [],
   "source": [
    "model = model.fit(X,Y)\n",
    "Y_pred=model.predict([[5,3.6,1.4,0.2]])\n",
    "print(Y_pred)"
   ]
  },
  {
   "cell_type": "code",
   "execution_count": null,
   "id": "e5b0c8c0",
   "metadata": {},
   "outputs": [],
   "source": []
  }
 ],
 "metadata": {
  "kernelspec": {
   "display_name": "Python 3 (ipykernel)",
   "language": "python",
   "name": "python3"
  },
  "language_info": {
   "codemirror_mode": {
    "name": "ipython",
    "version": 3
   },
   "file_extension": ".py",
   "mimetype": "text/x-python",
   "name": "python",
   "nbconvert_exporter": "python",
   "pygments_lexer": "ipython3",
   "version": "3.9.7"
  }
 },
 "nbformat": 4,
 "nbformat_minor": 5
}
