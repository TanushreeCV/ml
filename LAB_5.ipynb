{
 "cells": [
  {
   "cell_type": "code",
   "execution_count": 1,
   "id": "4a8b95ea",
   "metadata": {},
   "outputs": [],
   "source": [
    "from pandas import read_csv\n",
    "from sklearn.model_selection import KFold\n",
    "from sklearn.model_selection import cross_val_score\n",
    "from sklearn.model_selection import cross_val_predict\n",
    "from sklearn.metrics import confusion_matrix\n",
    "from sklearn.metrics import classification_report\n",
    "from sklearn.naive_bayes import GaussianNB \n",
    "import warnings\n",
    "warnings.filterwarnings(\"ignore\")\n"
   ]
  },
  {
   "cell_type": "code",
   "execution_count": 4,
   "id": "2357ebae",
   "metadata": {},
   "outputs": [],
   "source": [
    "df = read_csv('Pima_Indian.csv')\n",
    "array = df.values\n",
    "X = array[:,0:-1]\n",
    "Y = array[:,-1]\n",
    "kfold = KFold(n_splits=10, shuffle=True, random_state=0)\n"
   ]
  },
  {
   "cell_type": "code",
   "execution_count": null,
   "id": "20b6a39e",
   "metadata": {
    "scrolled": true
   },
   "outputs": [],
   "source": [
    "model = GaussianNB()\n",
    "result = cross_val_score(model, X, Y, cv=kfold, scoring='accuracy')\n",
    "print(\"Accuracy = {:.2f}%\".format(result.mean()*100))\n",
    "Y_pred = cross_val_predict(model, X, Y, cv=kfold)\n",
    "conf_mat = confusion_matrix(Y, Y_pred)\n",
    "print('\\n',conf_mat)\n",
    "report = classification_report(Y, Y_pred)\n",
    "print('\\n',report)\n"
   ]
  },
  {
   "cell_type": "code",
   "execution_count": 11,
   "id": "65fd04dd",
   "metadata": {},
   "outputs": [
    {
     "name": "stdout",
     "output_type": "stream",
     "text": [
      "[1.]\n"
     ]
    }
   ],
   "source": [
    "model = model.fit(X,Y)\n",
    "Y_pred=model.predict([[10,115,0,0,0,35.3,0.134,29]])\n",
    "print(Y_pred)"
   ]
  },
  {
   "cell_type": "code",
   "execution_count": null,
   "id": "3e337274",
   "metadata": {},
   "outputs": [],
   "source": []
  }
 ],
 "metadata": {
  "kernelspec": {
   "display_name": "Python 3 (ipykernel)",
   "language": "python",
   "name": "python3"
  },
  "language_info": {
   "codemirror_mode": {
    "name": "ipython",
    "version": 3
   },
   "file_extension": ".py",
   "mimetype": "text/x-python",
   "name": "python",
   "nbconvert_exporter": "python",
   "pygments_lexer": "ipython3",
   "version": "3.9.7"
  }
 },
 "nbformat": 4,
 "nbformat_minor": 5
}
